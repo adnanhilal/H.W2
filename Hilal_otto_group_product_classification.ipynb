{
  "nbformat": 4,
  "nbformat_minor": 0,
  "metadata": {
    "colab": {
      "name": "Hilal_otto_group_product_classification.ipynb",
      "version": "0.3.2",
      "provenance": [],
      "collapsed_sections": [
        "BJevxmOTcr9q",
        "FbxDQg09cBz9",
        "zc4G6dnLem66",
        "92nH5e2nexR7",
        "RaLajuD6fiK-",
        "j7LtJoxTc1Ub"
      ],
      "include_colab_link": true
    },
    "language_info": {
      "codemirror_mode": {
        "name": "ipython",
        "version": 3
      },
      "file_extension": ".py",
      "mimetype": "text/x-python",
      "name": "python",
      "nbconvert_exporter": "python",
      "pygments_lexer": "ipython3",
      "version": "3.7.2"
    },
    "kernelspec": {
      "display_name": "Python 3",
      "language": "python",
      "name": "python3"
    }
  },
  "cells": [
    {
      "cell_type": "markdown",
      "metadata": {
        "id": "view-in-github",
        "colab_type": "text"
      },
      "source": [
        "<a href=\"https://colab.research.google.com/github/adnanhilal/H.W2/blob/master/Hilal_otto_group_product_classification.ipynb\" target=\"_parent\"><img src=\"https://colab.research.google.com/assets/colab-badge.svg\" alt=\"Open In Colab\"/></a>"
      ]
    },
    {
      "cell_type": "markdown",
      "metadata": {
        "id": "GDSToDYGbuMm",
        "colab_type": "text"
      },
      "source": [
        "# Data download and preparing "
      ]
    },
    {
      "cell_type": "code",
      "metadata": {
        "id": "E2V4mK6SW141",
        "colab_type": "code",
        "colab": {}
      },
      "source": [
        "import numpy as np\n",
        "import pandas as pd\n",
        "from sklearn.model_selection import train_test_split\n",
        "from sklearn.feature_selection import SelectKBest\n",
        "from sklearn.linear_model import LogisticRegression"
      ],
      "execution_count": 0,
      "outputs": []
    },
    {
      "cell_type": "code",
      "metadata": {
        "id": "7x4KzH4tW146",
        "colab_type": "code",
        "colab": {}
      },
      "source": [
        "from sklearn.model_selection import train_test_split\n",
        "from sklearn.tree import DecisionTreeClassifier\n",
        "from sklearn.neighbors import KNeighborsClassifier\n",
        "from sklearn.svm import SVC\n",
        "from sklearn.svm import LinearSVC\n",
        "from sklearn.metrics import accuracy_score\n",
        "from sklearn.metrics import mean_squared_error"
      ],
      "execution_count": 0,
      "outputs": []
    },
    {
      "cell_type": "code",
      "metadata": {
        "id": "7dH5dVT1W149",
        "colab_type": "code",
        "colab": {}
      },
      "source": [
        "from sklearn import preprocessing \n",
        "from sklearn.preprocessing import OneHotEncoder\n",
        "from sklearn.compose import ColumnTransformer"
      ],
      "execution_count": 0,
      "outputs": []
    },
    {
      "cell_type": "code",
      "metadata": {
        "id": "eHFX-3vOW150",
        "colab_type": "code",
        "colab": {}
      },
      "source": [
        "from sklearn.metrics import accuracy_score, confusion_matrix"
      ],
      "execution_count": 0,
      "outputs": []
    },
    {
      "cell_type": "code",
      "metadata": {
        "id": "-zPHQfRkW15A",
        "colab_type": "code",
        "colab": {}
      },
      "source": [
        "import warnings\n",
        "warnings.filterwarnings('ignore')\n"
      ],
      "execution_count": 0,
      "outputs": []
    },
    {
      "cell_type": "code",
      "metadata": {
        "id": "q-wbIMJ7W15D",
        "colab_type": "code",
        "colab": {}
      },
      "source": [
        "data_url=\"https://raw.githubusercontent.com/adnanhilal/H.W2/master/train.csv\""
      ],
      "execution_count": 0,
      "outputs": []
    },
    {
      "cell_type": "code",
      "metadata": {
        "id": "meNglHg0W15G",
        "colab_type": "code",
        "colab": {}
      },
      "source": [
        "producttrain = pd.read_csv(data_url)"
      ],
      "execution_count": 0,
      "outputs": []
    },
    {
      "cell_type": "code",
      "metadata": {
        "id": "UDgLbQB4W15J",
        "colab_type": "code",
        "outputId": "081be3e0-2b04-4b81-fcf7-66f585a2e8d1",
        "colab": {
          "base_uri": "https://localhost:8080/",
          "height": 306
        }
      },
      "source": [
        "producttrain.columns "
      ],
      "execution_count": 0,
      "outputs": [
        {
          "output_type": "execute_result",
          "data": {
            "text/plain": [
              "Index(['id', 'feat_1', 'feat_2', 'feat_3', 'feat_4', 'feat_5', 'feat_6',\n",
              "       'feat_7', 'feat_8', 'feat_9', 'feat_10', 'feat_11', 'feat_12',\n",
              "       'feat_13', 'feat_14', 'feat_15', 'feat_16', 'feat_17', 'feat_18',\n",
              "       'feat_19', 'feat_20', 'feat_21', 'feat_22', 'feat_23', 'feat_24',\n",
              "       'feat_25', 'feat_26', 'feat_27', 'feat_28', 'feat_29', 'feat_30',\n",
              "       'feat_31', 'feat_32', 'feat_33', 'feat_34', 'feat_35', 'feat_36',\n",
              "       'feat_37', 'feat_38', 'feat_39', 'feat_40', 'feat_41', 'feat_42',\n",
              "       'feat_43', 'feat_44', 'feat_45', 'feat_46', 'feat_47', 'feat_48',\n",
              "       'feat_49', 'feat_50', 'feat_51', 'feat_52', 'feat_53', 'feat_54',\n",
              "       'feat_55', 'feat_56', 'feat_57', 'feat_58', 'feat_59', 'feat_60',\n",
              "       'feat_61', 'feat_62', 'feat_63', 'feat_64', 'feat_65', 'feat_66',\n",
              "       'feat_67', 'feat_68', 'feat_69', 'feat_70', 'feat_71', 'feat_72',\n",
              "       'feat_73', 'feat_74', 'feat_75', 'feat_76', 'feat_77', 'feat_78',\n",
              "       'feat_79', 'feat_80', 'feat_81', 'feat_82', 'feat_83', 'feat_84',\n",
              "       'feat_85', 'feat_86', 'feat_87', 'feat_88', 'feat_89', 'feat_90',\n",
              "       'feat_91', 'feat_92', 'feat_93', 'target'],\n",
              "      dtype='object')"
            ]
          },
          "metadata": {
            "tags": []
          },
          "execution_count": 8
        }
      ]
    },
    {
      "cell_type": "code",
      "metadata": {
        "id": "UmvQnLYDW15O",
        "colab_type": "code",
        "colab": {}
      },
      "source": [
        "#producttrain\n"
      ],
      "execution_count": 0,
      "outputs": []
    },
    {
      "cell_type": "code",
      "metadata": {
        "id": "HjpjLY22W15R",
        "colab_type": "code",
        "colab": {}
      },
      "source": [
        "producttrain.target.replace(('Class_1','Class_2','Class_3','Class_4','Class_5','Class_6','Class_7','Class_8','Class_9'),\n",
        "                        (1,2,3,4,5,6,7,8,9), inplace=True)"
      ],
      "execution_count": 0,
      "outputs": []
    },
    {
      "cell_type": "code",
      "metadata": {
        "id": "GH1Gr2FOW15W",
        "colab_type": "code",
        "colab": {}
      },
      "source": [
        "X = producttrain.drop('target', axis=1)\n",
        "Y = producttrain['target']"
      ],
      "execution_count": 0,
      "outputs": []
    },
    {
      "cell_type": "code",
      "metadata": {
        "id": "mCYTvjVZW15b",
        "colab_type": "code",
        "colab": {}
      },
      "source": [
        "#X"
      ],
      "execution_count": 0,
      "outputs": []
    },
    {
      "cell_type": "code",
      "metadata": {
        "id": "MtBd31dPW15e",
        "colab_type": "code",
        "colab": {}
      },
      "source": [
        "scaler = preprocessing.StandardScaler().fit(X)"
      ],
      "execution_count": 0,
      "outputs": []
    },
    {
      "cell_type": "code",
      "metadata": {
        "id": "le85yGvsW15h",
        "colab_type": "code",
        "outputId": "bf6fb075-50a4-451f-eed5-0d566b3725c9",
        "colab": {
          "base_uri": "https://localhost:8080/",
          "height": 34
        }
      },
      "source": [
        "scaler"
      ],
      "execution_count": 0,
      "outputs": [
        {
          "output_type": "execute_result",
          "data": {
            "text/plain": [
              "StandardScaler(copy=True, with_mean=True, with_std=True)"
            ]
          },
          "metadata": {
            "tags": []
          },
          "execution_count": 13
        }
      ]
    },
    {
      "cell_type": "code",
      "metadata": {
        "id": "xE6ftF_pW15l",
        "colab_type": "code",
        "colab": {}
      },
      "source": [
        "X=scaler.transform(X)"
      ],
      "execution_count": 0,
      "outputs": []
    },
    {
      "cell_type": "code",
      "metadata": {
        "id": "aPAhpyE1W15n",
        "colab_type": "code",
        "outputId": "708f582a-03ab-4029-9c30-ca89bbd6269f",
        "colab": {
          "base_uri": "https://localhost:8080/",
          "height": 238
        }
      },
      "source": [
        "X"
      ],
      "execution_count": 0,
      "outputs": [
        {
          "output_type": "execute_result",
          "data": {
            "text/plain": [
              "array([[-1.73202282,  0.40209324, -0.21010603, ..., -0.12951551,\n",
              "        -0.38693809, -0.10496314],\n",
              "       [-1.73196683, -0.25350808, -0.21010603, ..., -0.12951551,\n",
              "        -0.38693809, -0.10496314],\n",
              "       [-1.73191085, -0.25350808, -0.21010603, ..., -0.12951551,\n",
              "        -0.38693809, -0.10496314],\n",
              "       ...,\n",
              "       [ 1.73191085, -0.25350808, -0.21010603, ..., -0.12951551,\n",
              "        -0.38693809, -0.10496314],\n",
              "       [ 1.73196683,  0.40209324, -0.21010603, ...,  1.33702606,\n",
              "         9.792457  , -0.10496314],\n",
              "       [ 1.73202282, -0.25350808, -0.21010603, ..., -0.12951551,\n",
              "         1.64894093, -0.10496314]])"
            ]
          },
          "metadata": {
            "tags": []
          },
          "execution_count": 15
        }
      ]
    },
    {
      "cell_type": "code",
      "metadata": {
        "id": "lQVfrUjFW15r",
        "colab_type": "code",
        "colab": {}
      },
      "source": [
        "Xtrain, Xtest, Ytrain, Ytest = train_test_split(X, Y, test_size = 0.3, random_state=50)"
      ],
      "execution_count": 0,
      "outputs": []
    },
    {
      "cell_type": "markdown",
      "metadata": {
        "id": "BJevxmOTcr9q",
        "colab_type": "text"
      },
      "source": [
        "# Train a Multi-layer Perceptron (MLP)"
      ]
    },
    {
      "cell_type": "code",
      "metadata": {
        "id": "uC9xGMyEW166",
        "colab_type": "code",
        "colab": {}
      },
      "source": [
        "from sklearn.neural_network import MLPClassifier\n",
        "mlcp = MLPClassifier(hidden_layer_sizes=(100, ), activation='relu',\n",
        "alpha=0.0001,batch_size='auto', learning_rate_init=0.001, max_iter=200, shuffle=True, random_state=None,\n",
        "tol=0.0001, warm_start=False,early_stopping=True, validation_fraction=0.1,\n",
        "beta_1=0.9,beta_2=0.999, epsilon=1e-08).fit(Xtrain, Ytrain)"
      ],
      "execution_count": 0,
      "outputs": []
    },
    {
      "cell_type": "code",
      "metadata": {
        "id": "Pbdxj343W168",
        "colab_type": "code",
        "outputId": "4d5fe49d-df06-4072-ea44-1a8936768744",
        "colab": {
          "base_uri": "https://localhost:8080/"
        }
      },
      "source": [
        "print('accuracy for train MLP:', accuracy_score(Ytrain, mlcp.predict(Xtrain)))\n",
        "print('accuracy for test MLP:', accuracy_score(Ytest, mlcp.predict(Xtest)))"
      ],
      "execution_count": 0,
      "outputs": [
        {
          "output_type": "stream",
          "text": [
            "accuracy for train MLP: 0.9929814840467286\n",
            "accuracy for test MLP: 0.9752208575737987\n"
          ],
          "name": "stdout"
        }
      ]
    },
    {
      "cell_type": "code",
      "metadata": {
        "id": "kczkF8SBc8fz",
        "colab_type": "code",
        "outputId": "b2546ed4-11a3-4273-bb5a-62dd715e2ee2",
        "colab": {
          "base_uri": "https://localhost:8080/",
          "height": 190
        }
      },
      "source": [
        "y_predmlcp=mlcp.predict(Xtest)\n",
        "confusion_matrix(Ytest, y_predmlcp)"
      ],
      "execution_count": 0,
      "outputs": [
        {
          "output_type": "execute_result",
          "data": {
            "text/plain": [
              "array([[ 551,   17,    0,    0,    0,    0,    0,    0,    0],\n",
              "       [   8, 4744,   61,    1,    0,    0,    0,    0,    0],\n",
              "       [   0,   59, 2312,   11,    1,    0,    0,    0,    0],\n",
              "       [   0,    0,   52,  740,    5,    4,    0,    0,    0],\n",
              "       [   0,    0,    0,    7,  873,    1,    0,    0,    0],\n",
              "       [   1,    0,    0,    8,    5, 4134,   39,   19,    0],\n",
              "       [   0,    0,    0,    1,    0,   21,  805,   35,    0],\n",
              "       [   0,    0,    0,    0,    0,   16,   29, 2478,   18],\n",
              "       [   0,    0,    0,    0,    0,    0,    3,   38, 1467]])"
            ]
          },
          "metadata": {
            "tags": []
          },
          "execution_count": 19
        }
      ]
    },
    {
      "cell_type": "markdown",
      "metadata": {
        "id": "FbxDQg09cBz9",
        "colab_type": "text"
      },
      "source": [
        "# \tK-Nearest Neighbours"
      ]
    },
    {
      "cell_type": "code",
      "metadata": {
        "id": "nnsRsqCNW15v",
        "colab_type": "code",
        "colab": {}
      },
      "source": [
        "knnclass = KNeighborsClassifier(n_neighbors=3, p=2)\n",
        "knn = knnclass.fit(Xtrain, Ytrain)"
      ],
      "execution_count": 0,
      "outputs": []
    },
    {
      "cell_type": "code",
      "metadata": {
        "id": "xw8tL3jqW156",
        "colab_type": "code",
        "colab": {}
      },
      "source": [
        "#print('accuracy for train knn:', accuracy_score(Ytrain, knn.predict(Xtrain)))\n",
        "#print('accuracy for test knn:', accuracy_score(Ytest, knn.predict(Xtest)))\n",
        "#KNN take very long time to calculate the accuracy"
      ],
      "execution_count": 0,
      "outputs": []
    },
    {
      "cell_type": "code",
      "metadata": {
        "id": "nhsfz4gaeZML",
        "colab_type": "code",
        "colab": {}
      },
      "source": [
        "#y_predknn=knn.predict(Xtest)\n",
        "#confusion_matrix(Ytest, y_predknn)"
      ],
      "execution_count": 0,
      "outputs": []
    },
    {
      "cell_type": "markdown",
      "metadata": {
        "id": "zc4G6dnLem66",
        "colab_type": "text"
      },
      "source": [
        "# Decision Tree Classifier"
      ]
    },
    {
      "cell_type": "code",
      "metadata": {
        "id": "obZy9sEAW16B",
        "colab_type": "code",
        "colab": {}
      },
      "source": [
        "tree = DecisionTreeClassifier(max_leaf_nodes=9,max_depth=10).fit(Xtrain, Ytrain)"
      ],
      "execution_count": 0,
      "outputs": []
    },
    {
      "cell_type": "code",
      "metadata": {
        "id": "fXcEbX0FW16I",
        "colab_type": "code",
        "outputId": "3dddd172-3152-4e33-d437-5be67d15b932",
        "colab": {
          "base_uri": "https://localhost:8080/"
        }
      },
      "source": [
        "print('accuracy for train tree:', accuracy_score(Ytrain, tree.predict(Xtrain)))\n",
        "print('accuracy for test Tree:', accuracy_score(Ytest, tree.predict(Xtest)))"
      ],
      "execution_count": 0,
      "outputs": [
        {
          "output_type": "stream",
          "text": [
            "accuracy for train tree: 1.0\n",
            "accuracy for test Tree: 0.999892264598147\n"
          ],
          "name": "stdout"
        }
      ]
    },
    {
      "cell_type": "code",
      "metadata": {
        "id": "cePyAGfSW16M",
        "colab_type": "code",
        "outputId": "a4989580-6f52-411a-b29b-1986b198ef8f",
        "colab": {
          "base_uri": "https://localhost:8080/",
          "height": 170
        }
      },
      "source": [
        "y_predtree=tree.predict(Xtest)\n",
        "confusion_matrix(Ytest, y_predtree)"
      ],
      "execution_count": 0,
      "outputs": [
        {
          "output_type": "execute_result",
          "data": {
            "text/plain": [
              "array([[ 568,    0,    0,    0,    0,    0,    0,    0,    0],\n",
              "       [   0, 4814,    0,    0,    0,    0,    0,    0,    0],\n",
              "       [   0,    0, 2383,    0,    0,    0,    0,    0,    0],\n",
              "       [   0,    0,    0,  801,    0,    0,    0,    0,    0],\n",
              "       [   0,    0,    0,    0,  881,    0,    0,    0,    0],\n",
              "       [   0,    0,    0,    0,    0, 4206,    0,    0,    0],\n",
              "       [   0,    0,    0,    0,    0,    1,  861,    0,    0],\n",
              "       [   0,    0,    0,    0,    0,    0,    0, 2540,    1],\n",
              "       [   0,    0,    0,    0,    0,    0,    0,    0, 1508]])"
            ]
          },
          "metadata": {
            "tags": []
          },
          "execution_count": 25
        }
      ]
    },
    {
      "cell_type": "markdown",
      "metadata": {
        "id": "92nH5e2nexR7",
        "colab_type": "text"
      },
      "source": [
        "# Support Vector Machines"
      ]
    },
    {
      "cell_type": "code",
      "metadata": {
        "id": "lGJww2r6W16P",
        "colab_type": "code",
        "colab": {}
      },
      "source": [
        "svc = SVC(C=20, max_iter=150, degree=9 ).fit(Xtrain, Ytrain)"
      ],
      "execution_count": 0,
      "outputs": []
    },
    {
      "cell_type": "code",
      "metadata": {
        "id": "REuu5pVEW16T",
        "colab_type": "code",
        "outputId": "d462010f-7e87-48fc-9209-3d49a041de14",
        "colab": {
          "base_uri": "https://localhost:8080/",
          "height": 51
        }
      },
      "source": [
        "print('Accuracy as traning for Support Vector Machine:',accuracy_score(Ytrain, svc.predict(Xtrain)))\n",
        "print('Accuracy as test for Support Vector Machine:',accuracy_score(Ytest, svc.predict(Xtest)))"
      ],
      "execution_count": 0,
      "outputs": [
        {
          "output_type": "stream",
          "text": [
            "Accuracy as traning for Support Vector Machine: 0.8486632497575841\n",
            "Accuracy as test for Support Vector Machine: 0.8400667959491489\n"
          ],
          "name": "stdout"
        }
      ]
    },
    {
      "cell_type": "code",
      "metadata": {
        "id": "ZpkjhA0xW16W",
        "colab_type": "code",
        "colab": {}
      },
      "source": [
        "#from sklearn.model_selection import GridSearchCV\n",
        "#svc = SVC()\n",
        "#parameters = {'C': (13,20), 'max_iter': (100,150)}\n",
        "#gscvsvc = GridSearchCV(estimator = svc, param_grid = parameters, n_jobs=-1,cv=5, )\n",
        "#gscvsvc.fit(Xtrain, Ytrain)"
      ],
      "execution_count": 0,
      "outputs": []
    },
    {
      "cell_type": "code",
      "metadata": {
        "id": "WvvXaOC6W16Y",
        "colab_type": "code",
        "colab": {}
      },
      "source": [
        "#gscvsvc.score(Xtest, Ytest)"
      ],
      "execution_count": 0,
      "outputs": []
    },
    {
      "cell_type": "code",
      "metadata": {
        "id": "kdkTwLqvW16a",
        "colab_type": "code",
        "colab": {}
      },
      "source": [
        "#gscvsvc.score(Xtrain, Ytrain)"
      ],
      "execution_count": 0,
      "outputs": []
    },
    {
      "cell_type": "code",
      "metadata": {
        "id": "ybaYkXZeW16e",
        "colab_type": "code",
        "colab": {}
      },
      "source": [
        "#gscvsvc.best_params_"
      ],
      "execution_count": 0,
      "outputs": []
    },
    {
      "cell_type": "code",
      "metadata": {
        "id": "CvdK9e7GW16i",
        "colab_type": "code",
        "colab": {}
      },
      "source": [
        "#print('Accuracy as test for Support Vector Machine:',gscvsvc.score(X_test, y_test))"
      ],
      "execution_count": 0,
      "outputs": []
    },
    {
      "cell_type": "markdown",
      "metadata": {
        "id": "RaLajuD6fiK-",
        "colab_type": "text"
      },
      "source": [
        "# Random Forest"
      ]
    },
    {
      "cell_type": "code",
      "metadata": {
        "id": "jMeW23VGW16l",
        "colab_type": "code",
        "colab": {}
      },
      "source": [
        "import seaborn as sns\n",
        "from sklearn.ensemble import RandomForestRegressor, RandomForestClassifier\n",
        "from sklearn.ensemble import BaggingClassifier, BaggingRegressor\n",
        "from sklearn.tree import DecisionTreeRegressor, DecisionTreeClassifier\n",
        "from sklearn.datasets import make_circles\n",
        "from sklearn.model_selection import train_test_split\n"
      ],
      "execution_count": 0,
      "outputs": []
    },
    {
      "cell_type": "code",
      "metadata": {
        "id": "WsrqWPk-W16n",
        "colab_type": "code",
        "colab": {}
      },
      "source": [
        "rf = RandomForestClassifier(n_estimators=35).fit(Xtrain, Ytrain)"
      ],
      "execution_count": 0,
      "outputs": []
    },
    {
      "cell_type": "code",
      "metadata": {
        "id": "zgXVGJekW16p",
        "colab_type": "code",
        "outputId": "adafa03b-9bc1-46f0-f421-e9ed6ce64cf1",
        "colab": {
          "base_uri": "https://localhost:8080/"
        }
      },
      "source": [
        "print('accuracy for train randomtree:', accuracy_score(Ytrain, rf.predict(Xtrain)))\n",
        "print('accuracy for test randomtree:', accuracy_score(Ytest, rf.predict(Xtest)))"
      ],
      "execution_count": 0,
      "outputs": [
        {
          "output_type": "stream",
          "text": [
            "accuracy for train randomtree: 1.0\n",
            "accuracy for test randomtree: 0.9926201249730662\n"
          ],
          "name": "stdout"
        }
      ]
    },
    {
      "cell_type": "code",
      "metadata": {
        "id": "TClrU5ZtW16t",
        "colab_type": "code",
        "colab": {}
      },
      "source": [
        "y_predrf=rf.predict(Xtest)"
      ],
      "execution_count": 0,
      "outputs": []
    },
    {
      "cell_type": "code",
      "metadata": {
        "id": "BKeBB5n_W16v",
        "colab_type": "code",
        "outputId": "c3a40557-e264-4b35-c523-cac06c594d22",
        "colab": {
          "base_uri": "https://localhost:8080/",
          "height": 54
        }
      },
      "source": [
        "y_predrf"
      ],
      "execution_count": 0,
      "outputs": [
        {
          "output_type": "execute_result",
          "data": {
            "text/plain": [
              "array([6, 8, 9, ..., 3, 9, 3])"
            ]
          },
          "metadata": {
            "tags": []
          },
          "execution_count": 37
        }
      ]
    },
    {
      "cell_type": "code",
      "metadata": {
        "id": "G7uOT18WW163",
        "colab_type": "code",
        "outputId": "a221c196-0479-4de1-e9f3-6dfac11f7eef",
        "colab": {
          "base_uri": "https://localhost:8080/",
          "height": 170
        }
      },
      "source": [
        "confusion_matrix(Ytest, y_predrf)"
      ],
      "execution_count": 0,
      "outputs": [
        {
          "output_type": "execute_result",
          "data": {
            "text/plain": [
              "array([[ 562,    1,    0,    0,    0,    5,    0,    0,    0],\n",
              "       [   0, 4813,    0,    0,    0,    1,    0,    0,    0],\n",
              "       [   0,    3, 2378,    0,    0,    0,    2,    0,    0],\n",
              "       [   0,    0,   10,  777,    3,    8,    2,    0,    1],\n",
              "       [   0,    0,    1,    8,  872,    0,    0,    0,    0],\n",
              "       [   0,    0,    2,    4,    0, 4171,   24,    1,    4],\n",
              "       [   0,    0,    5,    7,    2,   24,  820,    4,    0],\n",
              "       [   0,    0,    0,    0,    0,    1,    4, 2536,    0],\n",
              "       [   0,    0,    0,    0,    1,    1,    2,    6, 1498]])"
            ]
          },
          "metadata": {
            "tags": []
          },
          "execution_count": 38
        }
      ]
    },
    {
      "cell_type": "markdown",
      "metadata": {
        "id": "j7LtJoxTc1Ub",
        "colab_type": "text"
      },
      "source": [
        "#  Gradient Boosting Classifier"
      ]
    },
    {
      "cell_type": "code",
      "metadata": {
        "id": "bv8aYVtVW17A",
        "colab_type": "code",
        "colab": {}
      },
      "source": [
        "from sklearn.ensemble import GradientBoostingClassifier\n",
        "clf = GradientBoostingClassifier(n_estimators=100, learning_rate=1.0,max_depth=1, random_state=0).fit(Xtrain, Ytrain)"
      ],
      "execution_count": 0,
      "outputs": []
    },
    {
      "cell_type": "code",
      "metadata": {
        "id": "yMsQINhsW17C",
        "colab_type": "code",
        "outputId": "967814a6-2aee-4143-81fc-5fa0e7041bd4",
        "colab": {
          "base_uri": "https://localhost:8080/"
        }
      },
      "source": [
        "clf.score(Xtrain, Ytrain) "
      ],
      "execution_count": 0,
      "outputs": [
        {
          "output_type": "execute_result",
          "data": {
            "text/plain": [
              "1.0"
            ]
          },
          "metadata": {
            "tags": []
          },
          "execution_count": 40
        }
      ]
    },
    {
      "cell_type": "code",
      "metadata": {
        "id": "0FA0T3tqW17G",
        "colab_type": "code",
        "outputId": "487f5c66-546a-43f7-9761-b3c7901f2ce0",
        "colab": {
          "base_uri": "https://localhost:8080/",
          "height": 34
        }
      },
      "source": [
        "clf.score(Xtest, Ytest) "
      ],
      "execution_count": 0,
      "outputs": [
        {
          "output_type": "execute_result",
          "data": {
            "text/plain": [
              "0.999892264598147"
            ]
          },
          "metadata": {
            "tags": []
          },
          "execution_count": 41
        }
      ]
    },
    {
      "cell_type": "code",
      "metadata": {
        "id": "bstaOEHAW17M",
        "colab_type": "code",
        "colab": {}
      },
      "source": [
        "y_predclf=clf.predict(Xtest)"
      ],
      "execution_count": 0,
      "outputs": []
    },
    {
      "cell_type": "code",
      "metadata": {
        "id": "MD0mSWpFW17P",
        "colab_type": "code",
        "outputId": "6ada9620-93fc-4991-91db-b7081ae41a81",
        "colab": {
          "base_uri": "https://localhost:8080/",
          "height": 170
        }
      },
      "source": [
        "confusion_matrix(Ytest, y_predclf)"
      ],
      "execution_count": 0,
      "outputs": [
        {
          "output_type": "execute_result",
          "data": {
            "text/plain": [
              "array([[ 568,    0,    0,    0,    0,    0,    0,    0,    0],\n",
              "       [   0, 4814,    0,    0,    0,    0,    0,    0,    0],\n",
              "       [   0,    0, 2383,    0,    0,    0,    0,    0,    0],\n",
              "       [   0,    0,    0,  801,    0,    0,    0,    0,    0],\n",
              "       [   0,    0,    0,    0,  881,    0,    0,    0,    0],\n",
              "       [   0,    0,    0,    0,    0, 4206,    0,    0,    0],\n",
              "       [   0,    0,    0,    0,    0,    1,  861,    0,    0],\n",
              "       [   0,    0,    0,    0,    0,    0,    0, 2540,    1],\n",
              "       [   0,    0,    0,    0,    0,    0,    0,    0, 1508]])"
            ]
          },
          "metadata": {
            "tags": []
          },
          "execution_count": 43
        }
      ]
    },
    {
      "cell_type": "markdown",
      "metadata": {
        "id": "Q7rCkPmHfyws",
        "colab_type": "text"
      },
      "source": [
        "# comparison "
      ]
    },
    {
      "cell_type": "markdown",
      "metadata": {
        "id": "aPse2A5Hf_y2",
        "colab_type": "text"
      },
      "source": [
        "1- KNN take very long time to calculate the accuracy\n",
        "\n",
        "2- best accuracies comes from Decision Tree Classifier,  Gradient Boosting Classifier, and Random Forest.\n",
        "\n",
        "3- Support Vector Machines showes the lowest accuraci, it could be enhanced by gride search but it takes time "
      ]
    }
  ]
}